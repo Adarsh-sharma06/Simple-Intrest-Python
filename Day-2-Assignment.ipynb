{
 "cells": [
  {
   "cell_type": "code",
   "execution_count": 1,
   "id": "d9997053",
   "metadata": {},
   "outputs": [
    {
     "name": "stdout",
     "output_type": "stream",
     "text": [
      "Enter the principal amount: 2000\n",
      "Enter the time period (in years): 2\n",
      "Enter the gender (male/female): female\n",
      "Is the customer a senior citizen? (yes/no): yes\n",
      "Simple Interest: 320.0\n"
     ]
    }
   ],
   "source": [
    "# Write a Program to calculate the Simple Interest for Bank Customer for Fixed Deposit\n",
    "# a) If customer is Female & Senior Citizen, Rate - 8%\n",
    "# b) If customer is Female & Non Senior Citizen, Rate - 6%\n",
    "# c) If customer is Male & Senior Citizen, Rate - 7%\n",
    "# d) If customer is Male & Non Senior Citizen, Rate - 5%\n",
    "\n",
    "def calculate_simple_interest(principal, time, gender, senior_citizen):\n",
    "    \n",
    "    # Define the interest rates based on the customer's gender and senior citizen status\n",
    "    \n",
    "    if gender == \"female\" and senior_citizen:\n",
    "        rate = 8\n",
    "    elif gender == \"female\" and not senior_citizen:\n",
    "        rate = 6\n",
    "    elif gender == \"male\" and senior_citizen:\n",
    "        rate = 7\n",
    "    elif gender == \"male\" and not senior_citizen:\n",
    "        rate = 5\n",
    "    else:\n",
    "        print(\"Invalid input! Please provide valid gender and senior citizen status.\")\n",
    "        return None\n",
    "    \n",
    "    # Calculate the simple interest\n",
    "    interest = (principal * rate * time) / 100\n",
    "    \n",
    "    # Return the calculated interest\n",
    "    return interest\n",
    "\n",
    "\n",
    "# Test the program\n",
    "principal = float(input(\"Enter the principal amount: \"))\n",
    "time = float(input(\"Enter the time period (in years): \"))\n",
    "gender = input(\"Enter the gender (male/female): \").lower()\n",
    "senior_citizen = input(\"Is the customer a senior citizen? (yes/no): \").lower() == \"yes\"\n",
    "\n",
    "interest = calculate_simple_interest(principal, time, gender, senior_citizen)\n",
    "\n",
    "if interest is not None:\n",
    "    print(\"Simple Interest:\", interest)\n"
   ]
  }
 ],
 "metadata": {
  "kernelspec": {
   "display_name": "Python 3 (ipykernel)",
   "language": "python",
   "name": "python3"
  },
  "language_info": {
   "codemirror_mode": {
    "name": "ipython",
    "version": 3
   },
   "file_extension": ".py",
   "mimetype": "text/x-python",
   "name": "python",
   "nbconvert_exporter": "python",
   "pygments_lexer": "ipython3",
   "version": "3.9.13"
  }
 },
 "nbformat": 4,
 "nbformat_minor": 5
}
